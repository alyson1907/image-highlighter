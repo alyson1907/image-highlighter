{
 "cells": [
  {
   "cell_type": "markdown",
   "metadata": {},
   "source": [
    "### Selecting the image to process\n",
    "Enter the filename of the image, containing the \"type\" (or folder) of the image:\n",
    "\n",
    "`<folder_name>/<number>.png`\n",
    "\n",
    "For instance, if we want to process the **first** image from the **Hand-XRay** folder, we should enter as the input filename:\n",
    "\n",
    "`Hand-XRay/1.png`"
   ]
  },
  {
   "cell_type": "code",
   "execution_count": null,
   "metadata": {},
   "outputs": [],
   "source": [
    "\n",
    "import imageio\n",
    "import matplotlib.pyplot as plt\n",
    "import numpy as np\n",
    "# Project modules\n",
    "from filters import filter_appliers as f\n",
    "from filters import helpers as hp\n",
    "from filters import color_methods as color\n",
    "\n",
    "img = imageio.imread('images/COVID-19-Pneumonia/2.png')\n",
    "# img = imageio.imread('images/Hand-XRay/1.png')\n",
    "\n",
    "# Handling third dimension of some Gray images\n",
    "img = hp.trim_dimension(img)\n",
    "hp.printImg(img, size=7)\n"
   ]
  },
  {
   "cell_type": "markdown",
   "metadata": {},
   "source": [
    "### Selecting the Smoothing filter\n",
    "First, we should pre-process our image by applying a **Smoothing Filter** to it.  \n",
    "Select the number of the filter:\n",
    "\n",
    "**1. Median Filter**  \n",
    "**2. Gaussian Filter**\n",
    "\n",
    "In order to simplify the inputs, the parameters are set to default values. Feel free to change them in the code below!\n",
    "```py\n",
    "Parameters:\n",
    "        img: image to apply the filter\n",
    "        n: size of the filter\n",
    "        sigma: standard deviation (used only by the gaussian filter)\n",
    "```"
   ]
  },
  {
   "cell_type": "code",
   "execution_count": null,
   "metadata": {},
   "outputs": [],
   "source": [
    "selected_smoothing = 1\n",
    "# Applying filters to the image\n",
    "img_smooth = f.smoothing_filter(img, n=5, sigma=0.5, selected=selected_smoothing)\n",
    "\n",
    "# Original Image vs Filtered Image\n",
    "hp.printImg(img, img_smooth, size=12)"
   ]
  },
  {
   "cell_type": "markdown",
   "metadata": {},
   "source": [
    "### Selecting the Edge Detection filter\n",
    "Now we want to apply some **Edge Filter** to our image in order to improve its visibility.  \n",
    "Select the number of the filter:\n",
    "\n",
    "**1. Laplacian of Gaussian**  \n",
    "**2. Sobel Operator** - might take a while to conclude\n",
    "\n",
    "Just as before, the parameters are set to default values. Feel free to change them as you want!\n",
    "```py\n",
    "Parameters:\n",
    "        img: image to apply the filter\n",
    "        n: the size of the filter (used only by the `laplacian_of_gaussian` filter)\n",
    "        sigma: standard deviation (used only by the `laplacian_of_gaussian` filter)\n",
    "        selected: number of the method\n",
    "```"
   ]
  },
  {
   "cell_type": "code",
   "execution_count": 10,
   "metadata": {},
   "outputs": [],
   "source": [
    "selected_edge = 1\n",
    "# Applying filter to the image\n",
    "img_edge = f.edge_filter(img_smooth, n=3, sigma=1, selected=selected_edge)\n",
    "img_edge = hp.normalize(img_edge)\n"
   ]
  },
  {
   "cell_type": "code",
   "execution_count": null,
   "metadata": {},
   "outputs": [],
   "source": [
    "# We apply the scalar if Sobel Operator is selected in order to turn white color more visible (scalar=1 will return the original output)\n",
    "scalar = 6\n",
    "img_out_restored = (img_edge * scalar) if (selected_edge == 2) else img_edge\n",
    "\n",
    "hp.printImg(img, img_out_restored, size=12)"
   ]
  },
  {
   "cell_type": "markdown",
   "metadata": {},
   "source": [
    "### Selecting the Colormap\n",
    "In this step we will apply a **Colormap** to the image.  \n",
    "They can be one of the following:\n",
    "\n",
    "**0. None (no colormaps will be applied)**  \n",
    "**1. Hot**  \n",
    "**2. Inferno**  \n",
    "**3. Twilight**  \n",
    "**4. Rainbow**  \n",
    "**5. Jet**  \n",
    "\n",
    "```py\n",
    "Parameters:\n",
    "        img: image to apply the colormap\n",
    "        selected: number of the method\n",
    "```"
   ]
  },
  {
   "cell_type": "code",
   "execution_count": 12,
   "metadata": {},
   "outputs": [],
   "source": [
    "selected_color = 2\n",
    "# Applying Color Filters\n",
    "img_final = color.colorize(img_out_restored, selected=selected_color)\n",
    "img_final = hp.normalize(img_final)\n",
    "\n",
    "# img_final = color.change_contrast(img_final, k=0.025)"
   ]
  },
  {
   "cell_type": "markdown",
   "metadata": {},
   "source": [
    "### Printing the results\n",
    "Now that we have our output image, we must normalize it before showing the results."
   ]
  },
  {
   "cell_type": "markdown",
   "metadata": {},
   "source": [
    "### Original Image and Results"
   ]
  },
  {
   "cell_type": "code",
   "execution_count": null,
   "metadata": {},
   "outputs": [],
   "source": [
    "\n",
    "# Original Image vs Filtered Image\n",
    "hp.printImg(img, img_out_restored, img_final, size=20)"
   ]
  },
  {
   "cell_type": "code",
   "execution_count": null,
   "metadata": {},
   "outputs": [],
   "source": []
  }
 ],
 "metadata": {
  "kernelspec": {
   "display_name": "Python 3.7.4 64-bit ('myenv': venv)",
   "language": "python",
   "name": "python37464bitmyenvvenv89fab300d2ba4d17a59e004942f0a0f6"
  },
  "language_info": {
   "codemirror_mode": {
    "name": "ipython",
    "version": 3
   },
   "file_extension": ".py",
   "mimetype": "text/x-python",
   "name": "python",
   "nbconvert_exporter": "python",
   "pygments_lexer": "ipython3",
   "version": "3.7.4"
  }
 },
 "nbformat": 4,
 "nbformat_minor": 2
}
